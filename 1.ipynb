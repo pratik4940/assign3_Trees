{
 "cells": [
  {
   "cell_type": "code",
   "execution_count": 35,
   "id": "75396d3a",
   "metadata": {},
   "outputs": [
    {
     "name": "stdout",
     "output_type": "stream",
     "text": [
      " following is the tree after above statement\n",
      "        1\n",
      "      /        None  None\n",
      " 2 and 3 become left and right children of 1\n",
      "           1\n",
      "         /           2      3\n",
      "     /    \\    /     None None None None\n",
      "4 becomes left child of 2\n",
      "           1\n",
      "       /             2          3\n",
      "    /   \\       /     4    None  None  None\n",
      "  /  None None\n"
     ]
    }
   ],
   "source": [
    "class Node:\n",
    "    def __init__(self,key):\n",
    "        self.left = None\n",
    "        self.right = None\n",
    "        self.val = key\n",
    " \n",
    " \n",
    "\n",
    "root = Node(1)\n",
    "print(''' following is the tree after above statement\n",
    "        1\n",
    "      /   \\\n",
    "     None  None''')\n",
    " \n",
    "root.left      = Node(2);\n",
    "root.right     = Node(3);\n",
    "   \n",
    "print(''' 2 and 3 become left and right children of 1\n",
    "           1\n",
    "         /   \\\n",
    "        2      3\n",
    "     /    \\    /  \\\n",
    "   None None None None''')\n",
    " \n",
    " \n",
    "root.left.left  = Node(4);\n",
    "\n",
    "print('''4 becomes left child of 2\n",
    "           1\n",
    "       /       \\\n",
    "      2          3\n",
    "    /   \\       /  \\\n",
    "   4    None  None  None\n",
    "  /  \\\n",
    "None None''')\n"
   ]
  },
  {
   "cell_type": "code",
   "execution_count": null,
   "id": "69308f4a",
   "metadata": {},
   "outputs": [],
   "source": []
  }
 ],
 "metadata": {
  "kernelspec": {
   "display_name": "Python 3 (ipykernel)",
   "language": "python",
   "name": "python3"
  },
  "language_info": {
   "codemirror_mode": {
    "name": "ipython",
    "version": 3
   },
   "file_extension": ".py",
   "mimetype": "text/x-python",
   "name": "python",
   "nbconvert_exporter": "python",
   "pygments_lexer": "ipython3",
   "version": "3.10.0"
  }
 },
 "nbformat": 4,
 "nbformat_minor": 5
}
