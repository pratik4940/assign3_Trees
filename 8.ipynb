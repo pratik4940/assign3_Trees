{
 "cells": [
  {
   "cell_type": "code",
   "execution_count": 22,
   "id": "1ca0d179",
   "metadata": {},
   "outputs": [
    {
     "name": "stdout",
     "output_type": "stream",
     "text": [
      "Count = 2\n"
     ]
    }
   ],
   "source": [
    "class Node:\n",
    "     \n",
    "    def __init__(self, data):\n",
    "         \n",
    "        self.data = data\n",
    "        self.left = None\n",
    "        self.right = None\n",
    "  \n",
    "\n",
    "def getNode(data):\n",
    "\n",
    "    newNode = Node(data)\n",
    "    return newNode\n",
    " \n",
    "count = 0\n",
    "ptr = None\n",
    "\n",
    "def countSubtreesWithSumXUtil(root, x):\n",
    "     \n",
    "    global count, ptr\n",
    " \n",
    "    l = 0\n",
    "    r = 0\n",
    "     \n",
    "    if (root == None):\n",
    "        return 0  \n",
    "      \n",
    "    l += countSubtreesWithSumXUtil(root.left, x)\n",
    "    r += countSubtreesWithSumXUtil(root.right, x)\n",
    "  \n",
    "    if (l + r + root.data == x):\n",
    "        count += 1\n",
    "  \n",
    "    if (ptr != root):\n",
    "        return l + root.data + r\n",
    "      \n",
    "    return count\n",
    "      \n",
    "\n",
    "if __name__=='__main__':\n",
    "     \n",
    "    ''' binary tree creation\n",
    "              5\n",
    "            /  \\\n",
    "          -10   3\n",
    "          / \\  / \\\n",
    "          9 8 -4 7\n",
    "    '''\n",
    "     \n",
    "    root = getNode(5)\n",
    "    root.left = getNode(-10)\n",
    "    root.right = getNode(3)\n",
    "    root.left.left = getNode(9)\n",
    "    root.left.right = getNode(8)\n",
    "    root.right.left = getNode(-4)\n",
    "    root.right.right = getNode(7)\n",
    "  \n",
    "    x = 7\n",
    "    ptr = root\n",
    "     \n",
    "    print(\"Count = \" + str(countSubtreesWithSumXUtil(\n",
    "        root, x)))"
   ]
  },
  {
   "cell_type": "code",
   "execution_count": null,
   "id": "b53b3d64",
   "metadata": {},
   "outputs": [],
   "source": []
  }
 ],
 "metadata": {
  "kernelspec": {
   "display_name": "Python 3 (ipykernel)",
   "language": "python",
   "name": "python3"
  },
  "language_info": {
   "codemirror_mode": {
    "name": "ipython",
    "version": 3
   },
   "file_extension": ".py",
   "mimetype": "text/x-python",
   "name": "python",
   "nbconvert_exporter": "python",
   "pygments_lexer": "ipython3",
   "version": "3.10.0"
  }
 },
 "nbformat": 4,
 "nbformat_minor": 5
}
