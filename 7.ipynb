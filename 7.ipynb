{
 "cells": [
  {
   "cell_type": "code",
   "execution_count": 20,
   "id": "ec542b24",
   "metadata": {},
   "outputs": [
    {
     "name": "stdout",
     "output_type": "stream",
     "text": [
      "30\n"
     ]
    }
   ],
   "source": [
    "def SumNodes(l):\n",
    "     \n",
    " \n",
    "    leafNodeCount = pow(2, l - 1)\n",
    "\n",
    "    vec = [[] for i in range(l)]\n",
    " \n",
    "    for i in range(1, leafNodeCount + 1):\n",
    "        vec[l - 1].append(i)\n",
    " \n",
    "\n",
    "    for i in range(l - 2, -1, -1):\n",
    "        k = 0\n",
    " \n",
    "     \n",
    "        while (k < len(vec[i + 1]) - 1):\n",
    " \n",
    "          \n",
    "            vec[i].append(vec[i + 1][k] +\n",
    "                          vec[i + 1][k + 1])\n",
    "            k += 2\n",
    " \n",
    "    Sum = 0\n",
    " \n",
    "\n",
    "    for i in range(l):\n",
    "        for j in range(len(vec[i])):\n",
    "            Sum += vec[i][j]\n",
    " \n",
    "    return Sum\n",
    " \n",
    "\n",
    "if __name__ == '__main__':\n",
    "    l = 3\n",
    " \n",
    "    print(SumNodes(l))\n",
    "     "
   ]
  },
  {
   "cell_type": "code",
   "execution_count": null,
   "id": "2e199222",
   "metadata": {},
   "outputs": [],
   "source": []
  }
 ],
 "metadata": {
  "kernelspec": {
   "display_name": "Python 3 (ipykernel)",
   "language": "python",
   "name": "python3"
  },
  "language_info": {
   "codemirror_mode": {
    "name": "ipython",
    "version": 3
   },
   "file_extension": ".py",
   "mimetype": "text/x-python",
   "name": "python",
   "nbconvert_exporter": "python",
   "pygments_lexer": "ipython3",
   "version": "3.10.0"
  }
 },
 "nbformat": 4,
 "nbformat_minor": 5
}
