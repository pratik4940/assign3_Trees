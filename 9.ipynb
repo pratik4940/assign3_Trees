{
 "cells": [
  {
   "cell_type": "code",
   "execution_count": 24,
   "id": "ac70544e",
   "metadata": {},
   "outputs": [
    {
     "name": "stdout",
     "output_type": "stream",
     "text": [
      "Maximum level sum is 17\n"
     ]
    }
   ],
   "source": [
    "from collections import deque\n",
    " \n",
    "\n",
    "class Node:\n",
    "     \n",
    "    def __init__(self, key):\n",
    "         \n",
    "        self.data = key\n",
    "        self.left = None\n",
    "        self.right = None\n",
    " \n",
    "\n",
    "def maxLevelSum(root):\n",
    "     \n",
    "\n",
    "    if (root == None):\n",
    "        return 0\n",
    " \n",
    "\n",
    "    result = root.data\n",
    "     \n",
    "\n",
    "    q = deque()\n",
    "    q.append(root)\n",
    "     \n",
    "    while (len(q) > 0):\n",
    "         \n",
    "    \n",
    "       \n",
    "        count = len(q)\n",
    " \n",
    "       \n",
    "        sum = 0\n",
    "        while (count > 0):\n",
    "             \n",
    "        \n",
    "            temp = q.popleft()\n",
    " \n",
    "      \n",
    "            sum = sum + temp.data\n",
    " \n",
    "           \n",
    "            if (temp.left != None):\n",
    "                q.append(temp.left)\n",
    "            if (temp.right != None):\n",
    "                q.append(temp.right)\n",
    "                 \n",
    "            count -= 1   \n",
    " \n",
    " \n",
    "        result = max(sum, result)\n",
    " \n",
    "    return result\n",
    "     \n",
    "\n",
    "if __name__ == '__main__':\n",
    "     \n",
    "    root = Node(1)\n",
    "    root.left = Node(2)\n",
    "    root.right = Node(3)\n",
    "    root.left.left = Node(4)\n",
    "    root.left.right = Node(5)\n",
    "    root.right.right = Node(8)\n",
    "    root.right.right.left = Node(6)\n",
    "    root.right.right.right = Node(7)\n",
    " \n",
    "\n",
    "    print(\"Maximum level sum is\", maxLevelSum(root))"
   ]
  },
  {
   "cell_type": "code",
   "execution_count": null,
   "id": "50f4f581",
   "metadata": {},
   "outputs": [],
   "source": []
  }
 ],
 "metadata": {
  "kernelspec": {
   "display_name": "Python 3 (ipykernel)",
   "language": "python",
   "name": "python3"
  },
  "language_info": {
   "codemirror_mode": {
    "name": "ipython",
    "version": 3
   },
   "file_extension": ".py",
   "mimetype": "text/x-python",
   "name": "python",
   "nbconvert_exporter": "python",
   "pygments_lexer": "ipython3",
   "version": "3.10.0"
  }
 },
 "nbformat": 4,
 "nbformat_minor": 5
}
