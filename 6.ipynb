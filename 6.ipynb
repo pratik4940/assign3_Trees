{
 "cells": [
  {
   "cell_type": "code",
   "execution_count": 18,
   "id": "d72c38b4",
   "metadata": {},
   "outputs": [
    {
     "name": "stdout",
     "output_type": "stream",
     "text": [
      "Sum of left leaves is 78\n"
     ]
    }
   ],
   "source": [
    "class Node:\n",
    " \n",
    "\n",
    "    def __init__(self, key):\n",
    "        self.key = key\n",
    "        self.left = None\n",
    "        self.right = None\n",
    " \n",
    "def leftLeavesSumRec(root, isLeft, summ):\n",
    "    if root is None:\n",
    "        return\n",
    "     \n",
    "   \n",
    "    if root.left is None and root.right is None and isLeft == True:\n",
    "        summ[0] += root.key\n",
    " \n",
    "\n",
    "    leftLeavesSumRec(root.left, 1, summ)\n",
    "    leftLeavesSumRec(root.right, 0, summ)\n",
    "     \n",
    " \n",
    "\n",
    "def leftLeavesSum(root):\n",
    "    summ = [0] \n",
    "     \n",
    "\n",
    "    leftLeavesSumRec(root, 0, summ)\n",
    "     \n",
    "    return summ[0]\n",
    " \n",
    "\n",
    "root = Node(20);\n",
    "root.left= Node(9);\n",
    "root.right   = Node(49);\n",
    "root.right.left = Node(23);\n",
    "root.right.right= Node(52);\n",
    "root.right.right.left  = Node(50);\n",
    "root.left.left  = Node(5);\n",
    "root.left.right = Node(12);\n",
    "root.left.right.right  = Node(12);\n",
    " \n",
    "print (\"Sum of left leaves is\", leftLeavesSum(root))\n"
   ]
  },
  {
   "cell_type": "code",
   "execution_count": null,
   "id": "45d3ac5c",
   "metadata": {},
   "outputs": [],
   "source": []
  }
 ],
 "metadata": {
  "kernelspec": {
   "display_name": "Python 3 (ipykernel)",
   "language": "python",
   "name": "python3"
  },
  "language_info": {
   "codemirror_mode": {
    "name": "ipython",
    "version": 3
   },
   "file_extension": ".py",
   "mimetype": "text/x-python",
   "name": "python",
   "nbconvert_exporter": "python",
   "pygments_lexer": "ipython3",
   "version": "3.10.0"
  }
 },
 "nbformat": 4,
 "nbformat_minor": 5
}
