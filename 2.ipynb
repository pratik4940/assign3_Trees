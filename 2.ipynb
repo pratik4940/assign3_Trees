{
 "cells": [
  {
   "cell_type": "code",
   "execution_count": 3,
   "id": "7692783b",
   "metadata": {},
   "outputs": [
    {
     "name": "stdout",
     "output_type": "stream",
     "text": [
      "Height of tree is 2\n"
     ]
    }
   ],
   "source": [
    "class Node:\n",
    " \n",
    "   \n",
    "    def __init__(self, data):\n",
    "        self.data = data\n",
    "        self.left = None\n",
    "        self.right = None\n",
    " \n",
    "\n",
    "def maxDepth(node):\n",
    "    if node is None:\n",
    "        return -1 ;\n",
    " \n",
    "    else :\n",
    " \n",
    "       \n",
    "        lDepth = maxDepth(node.left)\n",
    "        rDepth = maxDepth(node.right)\n",
    " \n",
    "       \n",
    "        if (lDepth > rDepth):\n",
    "            return lDepth+1\n",
    "        else:\n",
    "            return rDepth+1\n",
    " \n",
    " \n",
    "\n",
    "root = Node(1)\n",
    "root.left = Node(2)\n",
    "root.right = Node(3)\n",
    "root.left.left = Node(4)\n",
    "root.left.right = Node(5)\n",
    " \n",
    " \n",
    "print (\"Height of tree is %d\" %(maxDepth(root)))\n",
    " "
   ]
  },
  {
   "cell_type": "code",
   "execution_count": null,
   "id": "a01b270f",
   "metadata": {},
   "outputs": [],
   "source": []
  }
 ],
 "metadata": {
  "kernelspec": {
   "display_name": "Python 3 (ipykernel)",
   "language": "python",
   "name": "python3"
  },
  "language_info": {
   "codemirror_mode": {
    "name": "ipython",
    "version": 3
   },
   "file_extension": ".py",
   "mimetype": "text/x-python",
   "name": "python",
   "nbconvert_exporter": "python",
   "pygments_lexer": "ipython3",
   "version": "3.10.0"
  }
 },
 "nbformat": 4,
 "nbformat_minor": 5
}
